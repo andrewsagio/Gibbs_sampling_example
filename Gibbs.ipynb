{
 "cells": [
  {
   "cell_type": "markdown",
   "metadata": {},
   "source": [
    "# A simple example of Gibbs sampling"
   ]
  },
  {
   "cell_type": "code",
   "execution_count": 2,
   "metadata": {},
   "outputs": [],
   "source": [
    "import ConditionalGMM\n",
    "import numpy as np\n",
    "import matplotlib.pyplot as plt\n",
    "import scipy\n",
    "%matplotlib inline"
   ]
  },
  {
   "cell_type": "markdown",
   "metadata": {},
   "source": [
    "Consider a mixture of two 2D Gaussian. Join probability is $P(x,y) = \\frac{1}{2}\\left( N(\\mu_1, \\text{cov}_1) + N(\\mu_2, \\text{cov}_2)\\right)$. \n",
    "\n",
    "If we only know the conditional probabilities $P(x|y)$ and $P(y|x)$, we can use Gibbs sampling to generate samples from $P(x,y)$"
   ]
  },
  {
   "cell_type": "code",
   "execution_count": 3,
   "metadata": {},
   "outputs": [
    {
     "data": {
      "text/plain": [
       "Text(0,0.5,'y')"
      ]
     },
     "execution_count": 3,
     "metadata": {},
     "output_type": "execute_result"
    },
    {
     "data": {
      "image/png": "[encoded data removed]",
      "text/plain": [
       "<Figure size 600x400 with 1 Axes>"
      ]
     },
     "metadata": {},
     "output_type": "display_data"
    }
   ],
   "source": [
    "mu1 = [1, -1]\n",
    "mu2 = [-1, 1]\n",
    "cov1 = [[.1, 0.1], [0.1, 0.15]]\n",
    "cov2 = [[.1, 0.1], [0.1, 0.15]]\n",
    "weights = [0.5, 0.5]\n",
    "x, y = np.mgrid[-2:2:.01, -2:2:.01]\n",
    "pos = np.dstack((x, y))\n",
    "rv1 = scipy.stats.multivariate_normal(mu1, cov1)\n",
    "rv2 = scipy.stats.multivariate_normal(mu2, cov2)\n",
    "fig2 = plt.figure()\n",
    "plt.contourf(x, y, rv1.pdf(pos) + rv2.pdf(pos))\n",
    "plt.xlabel('x')\n",
    "plt.ylabel('y')\n"
   ]
  },
  {
   "cell_type": "markdown",
   "metadata": {},
   "source": [
    "Define the Gibbs sampling class. Note that only conditional probabilities $P(x|y)$ and $P(y|x)$ are used."
   ]
  },
  {
   "cell_type": "code",
   "execution_count": 4,
   "metadata": {},
   "outputs": [],
   "source": [
    "class GibbsSampling:\n",
    "    def __init__(self, mu1, mu2, cov1, cov2, weights):\n",
    "        ''' Takes a mixture of two Gaussians with means mu1 and m2, covariance cov1 and cov2, mixing weight weights'''\n",
    "        self.mu1 = mu1\n",
    "        self.mu2 = mu2\n",
    "        self.cov1 = cov1\n",
    "        self.cov2 = cov2\n",
    "        self.weights = weights\n",
    "        means = [mu1, mu2]\n",
    "        covs = [cov1, cov2]\n",
    "        self.cGMM_x_given_y = ConditionalGMM.CondGMM(weights, means, covs, [1])\n",
    "        self.cGMM_y_given_x = ConditionalGMM.CondGMM(weights, means, covs, [0])\n",
    "        \n",
    "    def sample(self, point, n=1):\n",
    "        ''' Given a starting point, generate n samples'''\n",
    "        x,y = point\n",
    "        xlist = [x]\n",
    "        ylist = [y]\n",
    "        for _ in range(n):\n",
    "            x = self.cGMM_x_given_y.rvs(y)\n",
    "            y = self.cGMM_y_given_x.rvs(x)\n",
    "            xlist.append(float(x))\n",
    "            ylist.append(float(y))\n",
    "        return xlist, ylist\n",
    "    \n",
    "        \n",
    "gibbs = GibbsSampling(mu1, mu2, cov1, cov2, weights)"
   ]
  },
  {
   "cell_type": "markdown",
   "metadata": {},
   "source": [
    "Starting the Gibbs sampling chain at the mean of distribution 1.\n",
    "\n",
    "For small number of samples, the sampling can be trapped in local maximum"
   ]
  },
  {
   "cell_type": "code",
   "execution_count": 8,
   "metadata": {
    "scrolled": true
   },
   "outputs": [
    {
     "data": {
      "image/png": "[encoded data removed]",
      "text/plain": [
       "<Figure size 600x400 with 1 Axes>"
      ]
     },
     "metadata": {},
     "output_type": "display_data"
    }
   ],
   "source": [
    "x, y = gibbs.sample(mu1, 100)\n",
    "plt.hist2d(x,y, bins=50,range= [[-2,2],[-2,2]]);"
   ]
  },
  {
   "cell_type": "markdown",
   "metadata": {},
   "source": [
    "As long as the distributions are \"connected\" (irreducible), it can eventually sample all distributions"
   ]
  },
  {
   "cell_type": "code",
   "execution_count": 9,
   "metadata": {},
   "outputs": [
    {
     "data": {
      "image/png": "[encoded data removed]",
      "text/plain": [
       "<Figure size 600x400 with 1 Axes>"
      ]
     },
     "metadata": {},
     "output_type": "display_data"
    }
   ],
   "source": [
    "x, y = gibbs.sample(mu1, 5000)\n",
    "plt.hist2d(x,y, bins=50,range= [[-2,2],[-2,2]]);"
   ]
  }
 ],
 "metadata": {
  "kernelspec": {
   "display_name": "Python 2",
   "language": "python",
   "name": "python2"
  },
  "language_info": {
   "codemirror_mode": {
    "name": "ipython",
    "version": 2
   },
   "file_extension": ".py",
   "mimetype": "text/x-python",
   "name": "python",
   "nbconvert_exporter": "python",
   "pygments_lexer": "ipython2",
   "version": "2.7.17"
  }
 },
 "nbformat": 4,
 "nbformat_minor": 2
}
